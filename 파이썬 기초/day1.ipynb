{
 "cells": [
  {
   "cell_type": "code",
   "execution_count": null,
   "metadata": {},
   "outputs": [],
   "source": [
    "# N1_과제\n",
    "input_binary = int(input())             # 이진수 입력받아 정수 형태로 input_binary에 저장\n",
    "deci_num = 0                            # 십진수로 변환한 값을 저장할 deci_num\n",
    "\n",
    "for i in range(len(str(input_binary))) :    # 입력받은 이진수의 자릿수만큼 반복\n",
    "    deci_num = ((input_binary % (10 ** (i + 1))) // (10 ** i)) * (2 ** i) + deci_num    # i값이 0부터 시작하므로 이진수의 2^0자리부터 한자리씩 10^(i+1)의 나머지값에서 10^i 값으로 나눈 몫을 구해 각 자리수 구한 뒤 2^i 곱하고 deci_num에 더함\n",
    "\n",
    "print(deci_num)                         # 변환된 deci_num 출력"
   ]
  },
  {
   "cell_type": "code",
   "execution_count": 2,
   "metadata": {},
   "outputs": [
    {
     "data": {
      "text/plain": [
       "'helloworld'"
      ]
     },
     "execution_count": 2,
     "metadata": {},
     "output_type": "execute_result"
    }
   ],
   "source": [
    "'hello' + 'world'"
   ]
  },
  {
   "cell_type": "code",
   "execution_count": 8,
   "metadata": {},
   "outputs": [
    {
     "data": {
      "text/plain": [
       "'hello-world!'"
      ]
     },
     "execution_count": 8,
     "metadata": {},
     "output_type": "execute_result"
    }
   ],
   "source": [
    "'-'.join(['hello', 'world!'])       # join함수 안의 두 문자열을 -를 중심으로 합침"
   ]
  },
  {
   "cell_type": "code",
   "execution_count": 6,
   "metadata": {},
   "outputs": [
    {
     "data": {
      "text/plain": [
       "['rabbit ', ' banana']"
      ]
     },
     "execution_count": 6,
     "metadata": {},
     "output_type": "execute_result"
    }
   ],
   "source": [
    "'rabbit and banana'.split('and')        # and를 기준으로 문자열 분할"
   ]
  },
  {
   "cell_type": "code",
   "execution_count": 7,
   "metadata": {},
   "outputs": [
    {
     "data": {
      "text/plain": [
       "'HELLO'"
      ]
     },
     "execution_count": 7,
     "metadata": {},
     "output_type": "execute_result"
    }
   ],
   "source": [
    "'xoxoxoHELLOxoxoxo'.strip('xo')         # 문자열 좌우로 xo를 지움"
   ]
  },
  {
   "cell_type": "code",
   "execution_count": 10,
   "metadata": {},
   "outputs": [
    {
     "data": {
      "text/plain": [
       "'HELLOxoxoxo'"
      ]
     },
     "execution_count": 10,
     "metadata": {},
     "output_type": "execute_result"
    }
   ],
   "source": [
    "'xoxoxoHELLOxoxoxo'.lstrip('xo')        # 문자열 왼쪽만 strip"
   ]
  },
  {
   "cell_type": "code",
   "execution_count": 11,
   "metadata": {},
   "outputs": [
    {
     "data": {
      "text/plain": [
       "'xoxoxoHELLO'"
      ]
     },
     "execution_count": 11,
     "metadata": {},
     "output_type": "execute_result"
    }
   ],
   "source": [
    "'xoxoxoHELLOxoxoxo'.rstrip('xo')        # 문자열 오른쪽만 strip"
   ]
  },
  {
   "cell_type": "code",
   "execution_count": 12,
   "metadata": {},
   "outputs": [
    {
     "data": {
      "text/plain": [
       "'green apple'"
      ]
     },
     "execution_count": 12,
     "metadata": {},
     "output_type": "execute_result"
    }
   ],
   "source": [
    "'red apple'.replace('red', 'green')     # red를 green으로 교체"
   ]
  },
  {
   "cell_type": "code",
   "execution_count": 23,
   "metadata": {},
   "outputs": [
    {
     "data": {
      "text/plain": [
       "'HELLO'"
      ]
     },
     "execution_count": 23,
     "metadata": {},
     "output_type": "execute_result"
    }
   ],
   "source": [
    "'x1oxoxoHExoxoxoLLOxoxoxo'.strip('x1o').replace('xo', '')       # x1o를 지우고 xo를 replace를 이용해 지움"
   ]
  },
  {
   "cell_type": "code",
   "execution_count": 26,
   "metadata": {},
   "outputs": [
    {
     "ename": "NameError",
     "evalue": "name 'hello' is not defined",
     "output_type": "error",
     "traceback": [
      "\u001b[1;31m---------------------------------------------------------------------------\u001b[0m",
      "\u001b[1;31mNameError\u001b[0m                                 Traceback (most recent call last)",
      "Cell \u001b[1;32mIn[26], line 1\u001b[0m\n\u001b[1;32m----> 1\u001b[0m \u001b[38;5;28mprint\u001b[39m(\u001b[43mhello\u001b[49m, python)        \u001b[38;5;66;03m# hello에 따옴표가 없기 때문에 문자열이 아닌 변수로 인식\u001b[39;00m\n",
      "\u001b[1;31mNameError\u001b[0m: name 'hello' is not defined"
     ]
    }
   ],
   "source": [
    "print(hello, python)        # hello에 따옴표가 없기 때문에 문자열이 아닌 변수로 인식"
   ]
  },
  {
   "cell_type": "code",
   "execution_count": 27,
   "metadata": {},
   "outputs": [
    {
     "ename": "SyntaxError",
     "evalue": "incomplete input (1512452771.py, line 1)",
     "output_type": "error",
     "traceback": [
      "\u001b[1;36m  Cell \u001b[1;32mIn[27], line 1\u001b[1;36m\u001b[0m\n\u001b[1;33m    print('hello, python'\u001b[0m\n\u001b[1;37m                         ^\u001b[0m\n\u001b[1;31mSyntaxError\u001b[0m\u001b[1;31m:\u001b[0m incomplete input\n"
     ]
    }
   ],
   "source": [
    "print('hello, python'       # 괄호가 닫히지 않음"
   ]
  },
  {
   "cell_type": "code",
   "execution_count": 29,
   "metadata": {},
   "outputs": [
    {
     "name": "stdout",
     "output_type": "stream",
     "text": [
      "246.0\n"
     ]
    }
   ],
   "source": [
    "try:\n",
    "    print(123 / 0.5)            # print문을 시도\n",
    "except:                         # 에러가 날 경우\n",
    "    print('!inf')               # 이 내용 출력"
   ]
  },
  {
   "cell_type": "code",
   "execution_count": 6,
   "metadata": {},
   "outputs": [],
   "source": [
    "import re                   # re 패키지 import"
   ]
  },
  {
   "cell_type": "code",
   "execution_count": 31,
   "metadata": {},
   "outputs": [
    {
     "data": {
      "text/plain": [
       "'Ant'"
      ]
     },
     "execution_count": 31,
     "metadata": {},
     "output_type": "execute_result"
    }
   ],
   "source": [
    "re.sub('a', 'A', 'ant')         # ant의 소문자a를 대문자A로 치환"
   ]
  },
  {
   "cell_type": "code",
   "execution_count": 34,
   "metadata": {},
   "outputs": [
    {
     "data": {
      "text/plain": [
       "'***-****-****'"
      ]
     },
     "execution_count": 34,
     "metadata": {},
     "output_type": "execute_result"
    }
   ],
   "source": [
    "re.sub('\\\\d', '*', '010-1234-5678')         # 숫자 전체를 *로 치환"
   ]
  },
  {
   "cell_type": "code",
   "execution_count": 35,
   "metadata": {},
   "outputs": [
    {
     "data": {
      "text/plain": [
       "'***'"
      ]
     },
     "execution_count": 35,
     "metadata": {},
     "output_type": "execute_result"
    }
   ],
   "source": [
    "re.sub('\\\\S', '*', '홍길동')                # 공백이 아닌 문자 전체를 *로 치환"
   ]
  },
  {
   "cell_type": "code",
   "execution_count": 36,
   "metadata": {},
   "outputs": [
    {
     "data": {
      "text/plain": [
       "'***123'"
      ]
     },
     "execution_count": 36,
     "metadata": {},
     "output_type": "execute_result"
    }
   ],
   "source": [
    "re.sub('\\\\D', '*', '홍길동123')             # 숫자가 아닌 문자 전체를 *로 치환"
   ]
  },
  {
   "cell_type": "code",
   "execution_count": 37,
   "metadata": {},
   "outputs": [
    {
     "data": {
      "text/plain": [
       "<re.Match object; span=(0, 1), match='H'>"
      ]
     },
     "execution_count": 37,
     "metadata": {},
     "output_type": "execute_result"
    }
   ],
   "source": [
    "re.match('H', 'HELLO123&&*')                # 문자열 시작이 H인지 확인"
   ]
  },
  {
   "cell_type": "code",
   "execution_count": 38,
   "metadata": {},
   "outputs": [
    {
     "data": {
      "text/plain": [
       "<re.Match object; span=(2, 3), match='L'>"
      ]
     },
     "execution_count": 38,
     "metadata": {},
     "output_type": "execute_result"
    }
   ],
   "source": [
    "re.search('L', 'HELLO123&&*')               # 문자열에 L이 있는지 확인. 첫번째 L의 위치만 찾을 수 있음"
   ]
  },
  {
   "cell_type": "code",
   "execution_count": 39,
   "metadata": {},
   "outputs": [
    {
     "data": {
      "text/plain": [
       "['&', '&']"
      ]
     },
     "execution_count": 39,
     "metadata": {},
     "output_type": "execute_result"
    }
   ],
   "source": [
    "re.findall('&', 'HELLO123&&*')              # 문자열 안의 &를 모두 출력"
   ]
  },
  {
   "cell_type": "code",
   "execution_count": 42,
   "metadata": {},
   "outputs": [
    {
     "data": {
      "text/plain": [
       "<callable_iterator at 0x2483933ceb0>"
      ]
     },
     "execution_count": 42,
     "metadata": {},
     "output_type": "execute_result"
    }
   ],
   "source": [
    "re.finditer('\\\\w{2}', 'HELLO123&&*')"
   ]
  },
  {
   "cell_type": "code",
   "execution_count": 54,
   "metadata": {},
   "outputs": [
    {
     "data": {
      "text/plain": [
       "'hello~ 123456python'"
      ]
     },
     "execution_count": 54,
     "metadata": {},
     "output_type": "execute_result"
    }
   ],
   "source": [
    "str1 = 'hello~ 000000python'\n",
    "# re.sub('000000', '123456', str1)\n",
    "# re.sub('\\\\d\\\\d\\\\d\\\\d\\\\d\\\\d', '123456', str1)\n",
    "re.sub('\\\\d+', '123456', str1)                  # 6자리 이상 넘어갈 수도 있으므로 베스트는 아님 "
   ]
  },
  {
   "cell_type": "code",
   "execution_count": 53,
   "metadata": {},
   "outputs": [
    {
     "data": {
      "text/plain": [
       "'hello~ 123456python'"
      ]
     },
     "execution_count": 53,
     "metadata": {},
     "output_type": "execute_result"
    }
   ],
   "source": [
    "str2 = 'hello~ 111111python'\n",
    "re.sub('\\\\d\\\\d\\\\d\\\\d\\\\d\\\\d', '123456', str2)"
   ]
  },
  {
   "cell_type": "code",
   "execution_count": 10,
   "metadata": {},
   "outputs": [
    {
     "data": {
      "text/plain": [
       "['123', '456']"
      ]
     },
     "execution_count": 10,
     "metadata": {},
     "output_type": "execute_result"
    }
   ],
   "source": [
    "str3 = 'hello~ 123-456python'\n",
    "re.findall('\\\\d\\\\d\\\\d', str3)               # 3자리 숫자만 변환"
   ]
  },
  {
   "cell_type": "code",
   "execution_count": 11,
   "metadata": {},
   "outputs": [
    {
     "name": "stdout",
     "output_type": "stream",
     "text": [
      "안녕\n",
      "여러요\n"
     ]
    }
   ],
   "source": [
    "print('안녕\\n하세요\\r여러')     # \\r을 하면서 이미 써져있던 하세요를 여러가 덮어씀->남는 자리는 그대로 표시됨"
   ]
  },
  {
   "cell_type": "code",
   "execution_count": 18,
   "metadata": {},
   "outputs": [
    {
     "name": "stdout",
     "output_type": "stream",
     "text": [
      "파이썬\t이스케이프\t문자\t실습\n"
     ]
    }
   ],
   "source": [
    "print('파이썬\\t이스케이프\\t문자\\t실습')"
   ]
  },
  {
   "cell_type": "code",
   "execution_count": 19,
   "metadata": {},
   "outputs": [
    {
     "name": "stdout",
     "output_type": "stream",
     "text": [
      "파이썬\n",
      "이스케\n",
      "이프문\n",
      "자실습\n"
     ]
    }
   ],
   "source": [
    "print('파이썬\\n이스케\\n이프문\\n자실습')\n"
   ]
  },
  {
   "cell_type": "code",
   "execution_count": 22,
   "metadata": {},
   "outputs": [
    {
     "name": "stdout",
     "output_type": "stream",
     "text": [
      "파이썬오늘은문자열을배웠고그지식을이용해서문자열수정을해봅시다파이썬"
     ]
    }
   ],
   "source": [
    "txt = '파이썬오늘은\\t문자열을\\t배웠고,\\t그\\t지식을\\t이용해서\\t문자열\\t수정을\\t해\\t봅시다.\\n파이썬'\n",
    "txt1 = re.findall('[가-힣]', txt)           # 모든 한글만 리스트로 저장\n",
    "for i in txt1:\n",
    "    print(i, end='')                        # 리스트의 원소들을 하나씩 출력하고 끝을 공백이나 줄바꿈 없이 출력"
   ]
  },
  {
   "cell_type": "code",
   "execution_count": 29,
   "metadata": {},
   "outputs": [
    {
     "name": "stdout",
     "output_type": "stream",
     "text": [
      "파이썬오늘은\t문자열을\t배웠고,\n",
      "\t그\t지식을\t이용해서\t문자열\t수정을\t해\t봅시다.\n",
      "파이썬\n"
     ]
    }
   ],
   "source": [
    "txt2 = re.sub(',', ',\\n', txt)              # 콤마를 콤마+줄바꿈 개행문자로 변환\n",
    "print(txt2)"
   ]
  },
  {
   "cell_type": "code",
   "execution_count": 25,
   "metadata": {},
   "outputs": [
    {
     "name": "stdout",
     "output_type": "stream",
     "text": [
      "오늘은\t문자열을\t배웠고,\t그\t지식을\t이용해서\t문자열\t수정을\t해\t봅시다.\n",
      "\n"
     ]
    }
   ],
   "source": [
    "txt3 = re.sub('파이썬', '', txt)        # 파이썬을 치환을 이용해 제거\n",
    "print(txt3)"
   ]
  },
  {
   "cell_type": "code",
   "execution_count": 36,
   "metadata": {},
   "outputs": [
    {
     "name": "stdout",
     "output_type": "stream",
     "text": [
      "오늘은% 문자열을% 배웠고,%\n",
      "그% 지식을% 이용해서% 문자열% 수정을% 해% 봅시다.\n",
      "\n"
     ]
    }
   ],
   "source": [
    "txt4 = re.sub(',% ', ',%\\n', re.sub('\\t', '% ', txt3))      # 파이썬이 제거된 문자열에서 \\t를 %로 다시 치환해주고 거기서 다시 ',% '를 줄바꿈까지 추가해 치환\n",
    "print(txt4)\n",
    "# txt5 = re.sub('파이썬', '', re.sub('\\t', '% ', txt2))\n",
    "# print(txt5)"
   ]
  }
 ],
 "metadata": {
  "kernelspec": {
   "display_name": "Python 3 (ipykernel)",
   "language": "python",
   "name": "python3"
  },
  "language_info": {
   "codemirror_mode": {
    "name": "ipython",
    "version": 3
   },
   "file_extension": ".py",
   "mimetype": "text/x-python",
   "name": "python",
   "nbconvert_exporter": "python",
   "pygments_lexer": "ipython3",
   "version": "3.11.5"
  }
 },
 "nbformat": 4,
 "nbformat_minor": 2
}

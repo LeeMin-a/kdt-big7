{
 "cells": [
  {
   "cell_type": "code",
   "execution_count": 1,
   "id": "21f54d90-f548-4095-9b9a-897e10441eeb",
   "metadata": {
    "tags": []
   },
   "outputs": [
    {
     "name": "stdout",
     "output_type": "stream",
     "text": [
      "빗변의 길이는 160.11입니다\n"
     ]
    }
   ],
   "source": [
    "# 이민아\n",
    "# 문제 1\n",
    "가로 = 70\n",
    "높이 = 144\n",
    "빗변 = (70 ** 2 + 144 ** 2) ** 0.5\n",
    "print('빗변의 길이는 %.2f입니다' %빗변)    # 소수점 둘째 자리까지 출력"
   ]
  },
  {
   "cell_type": "code",
   "execution_count": 2,
   "id": "1130724c-cbb8-4cf8-b6aa-848507f0065a",
   "metadata": {
    "tags": []
   },
   "outputs": [
    {
     "name": "stdout",
     "output_type": "stream",
     "text": [
      "a의 반올림값과 b의 절댓값 중 더 큰 값은 b이고, 그 값은 75입니다\n"
     ]
    }
   ],
   "source": [
    "# 문제 2\n",
    "a = 55.994\n",
    "b = -75\n",
    "a = round(a, 1)\n",
    "b = abs(b)\n",
    "if max(a, b) == b:\n",
    "    print('a의 반올림값과 b의 절댓값 중 더 큰 값은 b이고, 그 값은 %d입니다' %b)\n",
    "else:\n",
    "    print('a의 반올림값과 b의 절댓값 중 더 큰 값은 a이고, 그 값은 %.1f입니다' %a)"
   ]
  },
  {
   "cell_type": "code",
   "execution_count": 3,
   "id": "d3c21ba5-5e1e-4c1a-bff6-6153d5c973db",
   "metadata": {
    "tags": []
   },
   "outputs": [
    {
     "name": "stdout",
     "output_type": "stream",
     "text": [
      "p\n"
     ]
    }
   ],
   "source": [
    "# 문제 3~7\n",
    "lorem = '''There are many variations of passages of Lorem Ipsum available, but the majority have suffered alteration in some form, by injected humour, or randomised words which don't look even slightly believable. If you are going to use a passage of Lorem Ipsum, you need to be sure there isn't anything embarrassing hidden in the middle of text. All the Lorem Ipsum generators on the Internet tend to repeat predefined chunks as necessary, making this the first true generator on the Internet. It uses a dictionary of over 200 Latin words, combined with a handful of model sentence structures, to generate Lorem Ipsum which looks reasonable. The generated Lorem Ipsum is therefore always free from repetition, injected humour, or non-characteristic words etc.'''\n",
    "# 문제 3\n",
    "print(lorem[399])    # 400번째 자리 글자의 index는 -1한 값인 399"
   ]
  },
  {
   "cell_type": "code",
   "execution_count": 4,
   "id": "e88afe59-10cf-4c26-8531-f01b9547035c",
   "metadata": {
    "tags": []
   },
   "outputs": [
    {
     "name": "stdout",
     "output_type": "stream",
     "text": [
      "te sdrow citsiretcarahc-non ro ,ruomuh detcejni ,noititeper morf eerf syawla erofereht si muspI m\n"
     ]
    }
   ],
   "source": [
    "# 문제 4\n",
    "print(lorem[-3:-100:-1])   # 뒤에서 3번째부터 뒤에서 99번째까지이므로 순서대로 역순 출력"
   ]
  },
  {
   "cell_type": "code",
   "execution_count": 5,
   "id": "e776402d-22be-4ab1-af01-10e6136b6737",
   "metadata": {
    "tags": []
   },
   "outputs": [
    {
     "name": "stdout",
     "output_type": "stream",
     "text": [
      "O\n"
     ]
    }
   ],
   "source": [
    "# 문제 5\n",
    "print(lorem[26].upper())    # 27번째 글자를 upper()를 사용해 대문자로 변환"
   ]
  },
  {
   "cell_type": "code",
   "execution_count": 6,
   "id": "d1f832e1-56d5-4e4d-9414-26d83dd53281",
   "metadata": {
    "tags": []
   },
   "outputs": [
    {
     "name": "stdout",
     "output_type": "stream",
     "text": [
      "TherearemanyvariationsofpassagesofLoremIpsumavailable,butthemajorityhavesufferedalterationinsomeform,byinjectedhumour,orrandomisedwordswhichdon'tlookevenslightlybelievable.IfyouaregoingtouseapassageofLoremIpsum,youneedtobesurethereisn'tanythingembarrassinghiddeninthemiddleoftext.AlltheLoremIpsumgeneratorsontheInternettendtorepeatpredefinedchunksasnecessary,makingthisthefirsttruegeneratorontheInternet.Itusesadictionaryofover200Latinwords,combinedwithahandfulofmodelsentencestructures,togenerateLoremIpsumwhichlooksreasonable.ThegeneratedLoremIpsumisthereforealwaysfreefromrepetition,injectedhumour,ornon-characteristicwordsetc.\n"
     ]
    }
   ],
   "source": [
    "# 문제 6\n",
    "lorem2 = lorem.replace(' ', '')    # replace를 이용해 공백 제거 후 lorem2에 저장\n",
    "print(lorem2)"
   ]
  },
  {
   "cell_type": "code",
   "execution_count": 7,
   "id": "79d4339b-65d0-41dd-ab79-7f84f5e524fb",
   "metadata": {
    "tags": []
   },
   "outputs": [
    {
     "name": "stdout",
     "output_type": "stream",
     "text": [
      "[\"There are many variations of passages of Lorem Ipsum available, but the majority have suffered alteration in some form, by injected humour, or randomised words which don't look even slightly believable. If you are going to use a passage of Lorem Ipsum, you need to be sure there isn't anything embarrassing hidden in the middle of text. All the Lorem Ipsum generators on the Internet tend to repeat predefined chunks as necessary, making this the first true generator on the Internet. It uses a dictionary of over 200 Latin words, combined with a handful of model sentence structures, to generate Lorem Ipsum which looks reasonable. The generated Lorem Ipsum is therefore always free from repetition, injected humour, or non\", 'characteristic words etc.']\n"
     ]
    }
   ],
   "source": [
    "# 문제 7\n",
    "print(lorem.split('-'))    # split을 이용해 lorem을 -기준으로 나눔. 출력된 리스트의 각 원소가 -를 기준으로 나눠진 부분들"
   ]
  },
  {
   "cell_type": "code",
   "execution_count": 8,
   "id": "132616b7-f000-408f-9ee2-ac52d4cc55ec",
   "metadata": {
    "tags": []
   },
   "outputs": [
    {
     "name": "stdout",
     "output_type": "stream",
     "text": [
      "159909\n"
     ]
    }
   ],
   "source": [
    "# 문제 8\n",
    "result = 0    # 총 합계를 저장할 변수\n",
    "for x in range(101, 806):    # 100<x<806이므로 101부터 805까지 반복\n",
    "    if x % 2 == 1:    # x가 홀수일 경우\n",
    "        result += x    # result에 x값 더해줌\n",
    "print(result)"
   ]
  },
  {
   "cell_type": "code",
   "execution_count": 9,
   "id": "1bafeeb6-3a33-4f1d-a88f-039d7b6b96aa",
   "metadata": {
    "tags": []
   },
   "outputs": [
    {
     "name": "stdout",
     "output_type": "stream",
     "text": [
      "['It has roots in a piece of classical Latin literature from 45 BC, ', 'professor at Hampden-Sydney College in Virginia, looked up one of ', 'passage, and going through the cites of the word in classical ', 'omes from sections 1.10.32 and 1.10.33 of \"de Finibus Bonorum ', 'This book is a treatise on the theory of ethics, very popular during ', 'amet..\", comes from a line in section 1.10.32.']\n"
     ]
    }
   ],
   "source": [
    "# 문제 9\n",
    "lorem2 = '''Contrary to popular belief, Lorem Ipsum is not simply random text. \n",
    "It has roots in a piece of classical Latin literature from 45 BC, \n",
    "making it over 2000 years old. Richard McClintock, a Latin \n",
    "professor at Hampden-Sydney College in Virginia, looked up one of \n",
    "the more obscure Latin words, consectetur, from a Lorem Ipsum \n",
    "passage, and going through the cites of the word in classical \n",
    "literature, discovered the undoubtable source. Lorem Ipsum \n",
    "omes from sections 1.10.32 and 1.10.33 of \"de Finibus Bonorum \n",
    "et Malorum\" (The Extremes of Good and Evil) by Cicero, written in 45 BC. \n",
    "This book is a treatise on the theory of ethics, very popular during \n",
    "the Renaissance. The first line of Lorem Ipsum, \"Lorem ipsum dolor sit \n",
    "amet..\", comes from a line in section 1.10.32.'''\n",
    "print(lorem2.splitlines()[1::2])    # lorem2를 line 단위로 분할, 1번 인덱스 값을 가지는 두번째 줄부터 인덱스가 2씩 증가하게 하여 출력"
   ]
  },
  {
   "cell_type": "code",
   "execution_count": 10,
   "id": "99f2d9b5-3f13-4e62-babd-8f6ac392b2b4",
   "metadata": {
    "tags": []
   },
   "outputs": [
    {
     "name": "stdout",
     "output_type": "stream",
     "text": [
      "{'통계사업번호': '20230116', '사업명': '캄보디아 노인자조모임 지원 및 연합회 설립을 통한 캄보디아 노인의 빈곤퇴치와 건강증진 (2015-20171,037백만원CPP한국헬프에이지Phase2)', 'PDM수직단계': 'summary', 'PDM목차번호': '0', 'PDM목차세부번호': '1', 'PDM성과지표': '개요', '연차': '', '내용': '※대표 수혜자 지표(지표명\\\\/측정 성과): 현재 자조모임 회원 가입 수\\\\/ 총 4,279명'}\n"
     ]
    }
   ],
   "source": [
    "# 문제 10\n",
    "pdm = {\"통계사업번호\" : \"2015140319032\",\n",
    "\t\t\"사업명\" : \"캄보디아 노인자조모임 지원 및 연합회 설립을 통한 캄보디아 노인의 빈곤퇴치와 건강증진 (2015-20171,037백만원CPP한국헬프에이지Phase2)\",\n",
    "\t\t\"PDM수직단계\" : \"summary\",\n",
    "\t\t\"PDM목차번호\" : \"0\",\n",
    "\t\t\"PDM목차세부번호\" : \"1\",\n",
    "\t\t\"PDM성과지표\" : \"개요\",\n",
    "\t\t\"연차\" : \"\",\n",
    "\t\t\"내용\" : \"※대표 수혜자 지표(지표명\\/측정 성과): 현재 자조모임 회원 가입 수\\/ 총 4,279명\"}\n",
    "pdm2 = pdm    # pdm2에 pdm값 저장\n",
    "pdm2['통계사업번호'] = \"20230116\"    # pdm2에서 통계사업번호에 저장된 value값을 변경\n",
    "print(pdm2)"
   ]
  },
  {
   "cell_type": "code",
   "execution_count": 12,
   "id": "38a97d59-e0a5-4c9d-9bf4-6ad183dafab5",
   "metadata": {
    "tags": []
   },
   "outputs": [
    {
     "name": "stdout",
     "output_type": "stream",
     "text": [
      "20230116\n",
      "캄보디아 노인자조모임 지원 및 연합회 설립을 통한 캄보디아 노인의 빈곤퇴치와 건강증진 (2015-20171,037백만원CPP한국헬프에이지Phase2)\n",
      "summary\n",
      "0\n",
      "1\n",
      "개요\n",
      "\n",
      "※대표 수혜자 지표(지표명\\/측정 성과): 현재 자조모임 회원 가입 수\\/ 총 4,279명\n"
     ]
    }
   ],
   "source": [
    "# 문제 11\n",
    "for i in pdm.values():\n",
    "    print(i)    # pdm의 value들을 순서대로 출력"
   ]
  },
  {
   "cell_type": "code",
   "execution_count": 13,
   "id": "55f25853-55c0-49e0-a6ce-3708cb77b448",
   "metadata": {
    "tags": []
   },
   "outputs": [
    {
     "name": "stdout",
     "output_type": "stream",
     "text": [
      "10\n"
     ]
    }
   ],
   "source": [
    "# 문제 12\n",
    "import re\n",
    "gene = 'ACAACTATGCATACTATCGGGAACTATCCT'\n",
    "print(len(re.findall('A', gene)))    # findall을 이용해 gene의 A를 모두 list형태로 가져와 len을 이용해 리스트의 길이를 계산하는 방식으로 A의 개수 출력"
   ]
  },
  {
   "cell_type": "code",
   "execution_count": 14,
   "id": "100d1aa0-383d-4d44-b7ba-60947c21fe19",
   "metadata": {
    "tags": []
   },
   "outputs": [
    {
     "name": "stdout",
     "output_type": "stream",
     "text": [
      "3\n"
     ]
    }
   ],
   "source": [
    "# 문제 13\n",
    "print(len(re.findall('ACTAT', gene)))    # 12번과 같은 방식으로 ACTAT의 개수 출력"
   ]
  },
  {
   "cell_type": "code",
   "execution_count": 19,
   "id": "b6b1d185-ee68-49af-9d0a-01394d75d537",
   "metadata": {
    "tags": []
   },
   "outputs": [],
   "source": [
    "# 문제 14\n",
    "import pandas as pd\n",
    "\n",
    "df = pd.read_csv('./test.csv')\n",
    "df['Age'] = df['Age'].apply(lambda x: x + 102)   # 모든 Age의 값에 102를 더함\n",
    "df.to_csv('./test2.csv')   # test2.csv로 저장"
   ]
  },
  {
   "cell_type": "code",
   "execution_count": 20,
   "id": "dc6f57e8-941e-4912-a89a-be7e6108cae0",
   "metadata": {
    "tags": []
   },
   "outputs": [],
   "source": [
    "# 문제 15\n",
    "df['Sex'] = df['Sex'].apply(lambda x: 0 if x == \"male\" else \"1\")    # Sex의 값을 0과 1로 변환\n",
    "df.to_csv('./test2.csv')   # test2.csv로 저장"
   ]
  },
  {
   "cell_type": "code",
   "execution_count": 21,
   "id": "a2e953a1-47ba-42d5-80b3-c2c22315db56",
   "metadata": {
    "tags": []
   },
   "outputs": [],
   "source": [
    "# 문제 16\n",
    "import numpy as np\n",
    "fare_mean = np.mean(df['Fare'])\n",
    "df['fare_high'] = df['Fare'].apply(lambda x: 'High' if x > fare_mean else 'Low')\n",
    "df.to_csv('./test2.csv')   # test2.csv로 저장"
   ]
  },
  {
   "cell_type": "code",
   "execution_count": 22,
   "id": "308f37f8-97e0-4a2b-8777-959f8398d533",
   "metadata": {
    "tags": []
   },
   "outputs": [
    {
     "name": "stdout",
     "output_type": "stream",
     "text": [
      "Davies, Mr. John Samuel\n",
      "Johnston, Mrs. Andrew G (Elizabeth Lily\" Watson)\"\n",
      "Davison, Mr. Thomas Henry\n",
      "Chaudanson, Miss. Victorine\n",
      "Dika, Mr. Mirko\n",
      "Dintcheff, Mr. Valtcho\n",
      "Zakarian, Mr. Mapriededer\n",
      "Davies, Mr. Evan\n",
      "Crafton, Mr. John Bertram\n",
      "Andersson, Miss. Ida Augusta Margareta\n"
     ]
    }
   ],
   "source": [
    "# 문제 17\n",
    "arr = [901, 925, 950, 951, 952, 1026, 1028, 1039, 1040, 1106]\n",
    "filtered_df = df[df['PassengerId'].isin(arr)]\n",
    "\n",
    "result_names = filtered_df['Name'].tolist()\n",
    "for i in result_names:\n",
    "    print(i)"
   ]
  },
  {
   "cell_type": "code",
   "execution_count": 25,
   "id": "e08cb64f-b673-44dd-ba31-8fc1015f0161",
   "metadata": {
    "tags": []
   },
   "outputs": [
    {
     "data": {
      "text/plain": [
       "Text(0.5, 1.0, 'SibSp에 따른 Fare 차이 비교')"
      ]
     },
     "execution_count": 25,
     "metadata": {},
     "output_type": "execute_result"
    },
    {
     "data": {
      "image/png": "[encoded data removed]",
      "text/plain": [
       "<Figure size 640x480 with 1 Axes>"
      ]
     },
     "metadata": {},
     "output_type": "display_data"
    }
   ],
   "source": [
    "# 문제 18\n",
    "import matplotlib.pyplot as plt\n",
    "import matplotlib as mpl\n",
    "sib = df\n",
    "sib['SibSp'] = sib['SibSp'].apply(lambda x: 1 if x >0 else 0)\n",
    "sib\n",
    "plt.rc('font', family='Malgun Gothic')  # 윈도우를 사용하고 있을 떄\n",
    "# 마이너스 기호 문제 해결하기|\n",
    "mpl.rcParams['axes.unicode_minus'] = False\n",
    "fig, ax = plt.subplots()\n",
    "ax.bar(df['SibSp'], df['Fare'])\n",
    "ax.set_ylabel('Fare')\n",
    "ax.set_xlabel('SibSp')\n",
    "ax.set_title('SibSp에 따른 Fare 차이 비교')"
   ]
  },
  {
   "cell_type": "code",
   "execution_count": 76,
   "id": "ce43e4be-a034-4f34-9fbf-176cfcbdf87b",
   "metadata": {
    "tags": []
   },
   "outputs": [
    {
     "name": "stdout",
     "output_type": "stream",
     "text": [
      "이 column은 숫자 데이터입니다\n"
     ]
    }
   ],
   "source": [
    "# 문제 19\n",
    "def check_type(data):\n",
    "    if data.dtypes == 'object':\n",
    "        print('이 column은 문자 데이터입니다')\n",
    "    else:\n",
    "        print('이 column은 숫자 데이터입니다')\n",
    "check_type(df['Age'])"
   ]
  },
  {
   "cell_type": "code",
   "execution_count": 78,
   "id": "cf8d25f2-f9a7-4ecb-b1b3-1a2e4ff1b2e8",
   "metadata": {
    "tags": []
   },
   "outputs": [
    {
     "data": {
      "text/plain": [
       "0"
      ]
     },
     "execution_count": 78,
     "metadata": {},
     "output_type": "execute_result"
    }
   ],
   "source": [
    "# 문제 20\n",
    "# 정수가 아닌 경우 round로 반올림하여 계산하였습니다.\n",
    "# 함수는 Age column의 하나의 값을 input으로 받습니다.\n",
    "def check_age(age):\n",
    "    if round(age) % 2 == 0:\n",
    "        return 1\n",
    "    else:\n",
    "        return 0\n",
    "check_age(df['Age'][1])"
   ]
  },
  {
   "cell_type": "code",
   "execution_count": null,
   "id": "f4b38528-aad8-426f-ad8a-30db783800d5",
   "metadata": {},
   "outputs": [],
   "source": []
  }
 ],
 "metadata": {
  "kernelspec": {
   "display_name": "Python 3 (ipykernel)",
   "language": "python",
   "name": "python3"
  },
  "language_info": {
   "codemirror_mode": {
    "name": "ipython",
    "version": 3
   },
   "file_extension": ".py",
   "mimetype": "text/x-python",
   "name": "python",
   "nbconvert_exporter": "python",
   "pygments_lexer": "ipython3",
   "version": "3.11.5"
  }
 },
 "nbformat": 4,
 "nbformat_minor": 5
}

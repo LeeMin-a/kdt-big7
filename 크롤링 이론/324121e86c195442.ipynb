{
 "cells": [
  {
   "cell_type": "code",
   "execution_count": 206,
   "id": "a360ee73-a4c0-4c84-8582-91a94b2e596a",
   "metadata": {
    "tags": []
   },
   "outputs": [],
   "source": [
    "from bs4 import BeautifulSoup\n",
    "import requests \n",
    "import pandas as pd\n",
    "import re\n",
    "from selenium import webdriver\n",
    "from selenium.webdriver.common.by import By\n",
    "import time"
   ]
  },
  {
   "cell_type": "code",
   "execution_count": null,
   "id": "fb123737-68d6-4387-9d9a-87208b9776ae",
   "metadata": {},
   "outputs": [],
   "source": [
    "# aws 전부다? 골라서? ec2\n",
    "\n",
    "# 페이지 체크방법 반복문 1쪽부터 무한대까지 현재URL의 페이지 번호랑 계속 넘어가는 페이지 번호랑 똑같은지 확인"
   ]
  },
  {
   "cell_type": "code",
   "execution_count": null,
   "id": "1d399ed1-610a-404d-8e2f-e3576b4f6c1d",
   "metadata": {},
   "outputs": [],
   "source": [
    "res = pd.DataFrame(columns=['기업명','주소','직무','직급','우대사항/기술스텍','자격요건','해당페이지url','기업페이지url'])"
   ]
  },
  {
   "cell_type": "code",
   "execution_count": 240,
   "id": "77511ce2-a16d-44b6-b577-c3b45a8c5a85",
   "metadata": {
    "tags": []
   },
   "outputs": [],
   "source": [
    "page = 1\n",
    "\n",
    "url = f'https://career.programmers.co.kr/job?page={page}&tags=AWS%20EC2&order=recent'\n",
    "\n",
    "driver = webdriver.Chrome()"
   ]
  },
  {
   "cell_type": "code",
   "execution_count": 241,
   "id": "be2543a0-6156-4114-940b-424e0623d920",
   "metadata": {
    "tags": []
   },
   "outputs": [],
   "source": [
    "driver.get(url)\n",
    "driver.get(url)"
   ]
  },
  {
   "cell_type": "code",
   "execution_count": null,
   "id": "da74e76d-f280-4822-93ec-2ab6ccd1fee2",
   "metadata": {},
   "outputs": [],
   "source": []
  },
  {
   "cell_type": "code",
   "execution_count": null,
   "id": "e16b8915-549e-4e3e-b8a8-bfd1b2ece7f4",
   "metadata": {},
   "outputs": [],
   "source": []
  },
  {
   "cell_type": "code",
   "execution_count": null,
   "id": "89836901-4177-455e-9eab-fb547f2cacf7",
   "metadata": {},
   "outputs": [],
   "source": []
  },
  {
   "cell_type": "code",
   "execution_count": null,
   "id": "11b5b72e-bd0b-4b69-b012-1b5ecf1d899d",
   "metadata": {},
   "outputs": [],
   "source": []
  },
  {
   "cell_type": "code",
   "execution_count": null,
   "id": "20bd2da5-25eb-4349-9316-832fa2368a0d",
   "metadata": {},
   "outputs": [],
   "source": []
  },
  {
   "cell_type": "code",
   "execution_count": null,
   "id": "bd82c0df-8296-4bf6-b774-eb380ab7bd65",
   "metadata": {},
   "outputs": [],
   "source": []
  },
  {
   "cell_type": "code",
   "execution_count": null,
   "id": "e71468ac-a503-413a-b100-8d23c5379c94",
   "metadata": {},
   "outputs": [],
   "source": [
    "###################################################### 기업정보 포함하기######################"
   ]
  },
  {
   "cell_type": "code",
   "execution_count": 242,
   "id": "4e3324cc-772e-4b50-97f2-d35f949167ac",
   "metadata": {
    "tags": []
   },
   "outputs": [
    {
     "ename": "NoSuchElementException",
     "evalue": "Message: no such element: Unable to locate element: {\"method\":\"xpath\",\"selector\":\"//*[@id=\"career-app-legacy\"]/div/div[1]/div[1]/section/div/div[1]/div[1]/div[2]\"}\n  (Session info: chrome=122.0.6261.69); For documentation on this error, please visit: https://www.selenium.dev/documentation/webdriver/troubleshooting/errors#no-such-element-exception\nStacktrace:\n\tGetHandleVerifier [0x00007FF6CD3F4C82+3505170]\n\t(No symbol) [0x00007FF6CD020852]\n\t(No symbol) [0x00007FF6CCED4145]\n\t(No symbol) [0x00007FF6CCF19ADD]\n\t(No symbol) [0x00007FF6CCF19C1C]\n\t(No symbol) [0x00007FF6CCF5AB27]\n\t(No symbol) [0x00007FF6CCF3BECF]\n\t(No symbol) [0x00007FF6CCF583B2]\n\t(No symbol) [0x00007FF6CCF3BC33]\n\t(No symbol) [0x00007FF6CCF0D618]\n\t(No symbol) [0x00007FF6CCF0E6B1]\n\tGetHandleVerifier [0x00007FF6CD4267DD+3708781]\n\tGetHandleVerifier [0x00007FF6CD47FC5D+4074477]\n\tGetHandleVerifier [0x00007FF6CD477DDF+4042095]\n\tGetHandleVerifier [0x00007FF6CD14A136+708806]\n\t(No symbol) [0x00007FF6CD02CB0F]\n\t(No symbol) [0x00007FF6CD027D14]\n\t(No symbol) [0x00007FF6CD027E6C]\n\t(No symbol) [0x00007FF6CD0179A4]\n\tBaseThreadInitThunk [0x00007FFDED8C257D+29]\n\tRtlUserThreadStart [0x00007FFDEEFCAA58+40]\n",
     "output_type": "error",
     "traceback": [
      "\u001b[1;31m---------------------------------------------------------------------------\u001b[0m",
      "\u001b[1;31mNoSuchElementException\u001b[0m                    Traceback (most recent call last)",
      "Cell \u001b[1;32mIn[242], line 15\u001b[0m\n\u001b[0;32m     12\u001b[0m \u001b[38;5;66;03m# 새로운 창으로 전환\u001b[39;00m\n\u001b[0;32m     13\u001b[0m driver\u001b[38;5;241m.\u001b[39mswitch_to\u001b[38;5;241m.\u001b[39mwindow(new_window_handle)\n\u001b[1;32m---> 15\u001b[0m position \u001b[38;5;241m=\u001b[39m driver\u001b[38;5;241m.\u001b[39mfind_element(By\u001b[38;5;241m.\u001b[39mXPATH,\u001b[38;5;124m'\u001b[39m\u001b[38;5;124m//*[@id=\u001b[39m\u001b[38;5;124m\"\u001b[39m\u001b[38;5;124mcareer-app-legacy\u001b[39m\u001b[38;5;124m\"\u001b[39m\u001b[38;5;124m]/div/div[1]/div[1]/section/div/div[1]/div[1]/div[2]\u001b[39m\u001b[38;5;124m'\u001b[39m)\u001b[38;5;241m.\u001b[39mtext\n\u001b[0;32m     16\u001b[0m \u001b[38;5;28mtype\u001b[39m \u001b[38;5;241m=\u001b[39m driver\u001b[38;5;241m.\u001b[39mfind_element(By\u001b[38;5;241m.\u001b[39mXPATH,\u001b[38;5;124m'\u001b[39m\u001b[38;5;124m//*[@id=\u001b[39m\u001b[38;5;124m\"\u001b[39m\u001b[38;5;124mcareer-app-legacy\u001b[39m\u001b[38;5;124m\"\u001b[39m\u001b[38;5;124m]/div/div[1]/div[1]/section/div/div[1]/div[3]/div[2]\u001b[39m\u001b[38;5;124m'\u001b[39m)\u001b[38;5;241m.\u001b[39mtext\n\u001b[0;32m     17\u001b[0m experience \u001b[38;5;241m=\u001b[39m driver\u001b[38;5;241m.\u001b[39mfind_element(By\u001b[38;5;241m.\u001b[39mXPATH,\u001b[38;5;124m'\u001b[39m\u001b[38;5;124m//*[@id=\u001b[39m\u001b[38;5;124m\"\u001b[39m\u001b[38;5;124mcareer-app-legacy\u001b[39m\u001b[38;5;124m\"\u001b[39m\u001b[38;5;124m]/div/div[1]/div[1]/section/div/div[1]/div[4]/div[2]\u001b[39m\u001b[38;5;124m'\u001b[39m)\u001b[38;5;241m.\u001b[39mtext\n",
      "File \u001b[1;32m~\\anaconda3\\Lib\\site-packages\\selenium\\webdriver\\remote\\webdriver.py:741\u001b[0m, in \u001b[0;36mWebDriver.find_element\u001b[1;34m(self, by, value)\u001b[0m\n\u001b[0;32m    738\u001b[0m     by \u001b[38;5;241m=\u001b[39m By\u001b[38;5;241m.\u001b[39mCSS_SELECTOR\n\u001b[0;32m    739\u001b[0m     value \u001b[38;5;241m=\u001b[39m \u001b[38;5;124mf\u001b[39m\u001b[38;5;124m'\u001b[39m\u001b[38;5;124m[name=\u001b[39m\u001b[38;5;124m\"\u001b[39m\u001b[38;5;132;01m{\u001b[39;00mvalue\u001b[38;5;132;01m}\u001b[39;00m\u001b[38;5;124m\"\u001b[39m\u001b[38;5;124m]\u001b[39m\u001b[38;5;124m'\u001b[39m\n\u001b[1;32m--> 741\u001b[0m \u001b[38;5;28;01mreturn\u001b[39;00m \u001b[38;5;28mself\u001b[39m\u001b[38;5;241m.\u001b[39mexecute(Command\u001b[38;5;241m.\u001b[39mFIND_ELEMENT, {\u001b[38;5;124m\"\u001b[39m\u001b[38;5;124musing\u001b[39m\u001b[38;5;124m\"\u001b[39m: by, \u001b[38;5;124m\"\u001b[39m\u001b[38;5;124mvalue\u001b[39m\u001b[38;5;124m\"\u001b[39m: value})[\u001b[38;5;124m\"\u001b[39m\u001b[38;5;124mvalue\u001b[39m\u001b[38;5;124m\"\u001b[39m]\n",
      "File \u001b[1;32m~\\anaconda3\\Lib\\site-packages\\selenium\\webdriver\\remote\\webdriver.py:347\u001b[0m, in \u001b[0;36mWebDriver.execute\u001b[1;34m(self, driver_command, params)\u001b[0m\n\u001b[0;32m    345\u001b[0m response \u001b[38;5;241m=\u001b[39m \u001b[38;5;28mself\u001b[39m\u001b[38;5;241m.\u001b[39mcommand_executor\u001b[38;5;241m.\u001b[39mexecute(driver_command, params)\n\u001b[0;32m    346\u001b[0m \u001b[38;5;28;01mif\u001b[39;00m response:\n\u001b[1;32m--> 347\u001b[0m     \u001b[38;5;28mself\u001b[39m\u001b[38;5;241m.\u001b[39merror_handler\u001b[38;5;241m.\u001b[39mcheck_response(response)\n\u001b[0;32m    348\u001b[0m     response[\u001b[38;5;124m\"\u001b[39m\u001b[38;5;124mvalue\u001b[39m\u001b[38;5;124m\"\u001b[39m] \u001b[38;5;241m=\u001b[39m \u001b[38;5;28mself\u001b[39m\u001b[38;5;241m.\u001b[39m_unwrap_value(response\u001b[38;5;241m.\u001b[39mget(\u001b[38;5;124m\"\u001b[39m\u001b[38;5;124mvalue\u001b[39m\u001b[38;5;124m\"\u001b[39m, \u001b[38;5;28;01mNone\u001b[39;00m))\n\u001b[0;32m    349\u001b[0m     \u001b[38;5;28;01mreturn\u001b[39;00m response\n",
      "File \u001b[1;32m~\\anaconda3\\Lib\\site-packages\\selenium\\webdriver\\remote\\errorhandler.py:229\u001b[0m, in \u001b[0;36mErrorHandler.check_response\u001b[1;34m(self, response)\u001b[0m\n\u001b[0;32m    227\u001b[0m         alert_text \u001b[38;5;241m=\u001b[39m value[\u001b[38;5;124m\"\u001b[39m\u001b[38;5;124malert\u001b[39m\u001b[38;5;124m\"\u001b[39m]\u001b[38;5;241m.\u001b[39mget(\u001b[38;5;124m\"\u001b[39m\u001b[38;5;124mtext\u001b[39m\u001b[38;5;124m\"\u001b[39m)\n\u001b[0;32m    228\u001b[0m     \u001b[38;5;28;01mraise\u001b[39;00m exception_class(message, screen, stacktrace, alert_text)  \u001b[38;5;66;03m# type: ignore[call-arg]  # mypy is not smart enough here\u001b[39;00m\n\u001b[1;32m--> 229\u001b[0m \u001b[38;5;28;01mraise\u001b[39;00m exception_class(message, screen, stacktrace)\n",
      "\u001b[1;31mNoSuchElementException\u001b[0m: Message: no such element: Unable to locate element: {\"method\":\"xpath\",\"selector\":\"//*[@id=\"career-app-legacy\"]/div/div[1]/div[1]/section/div/div[1]/div[1]/div[2]\"}\n  (Session info: chrome=122.0.6261.69); For documentation on this error, please visit: https://www.selenium.dev/documentation/webdriver/troubleshooting/errors#no-such-element-exception\nStacktrace:\n\tGetHandleVerifier [0x00007FF6CD3F4C82+3505170]\n\t(No symbol) [0x00007FF6CD020852]\n\t(No symbol) [0x00007FF6CCED4145]\n\t(No symbol) [0x00007FF6CCF19ADD]\n\t(No symbol) [0x00007FF6CCF19C1C]\n\t(No symbol) [0x00007FF6CCF5AB27]\n\t(No symbol) [0x00007FF6CCF3BECF]\n\t(No symbol) [0x00007FF6CCF583B2]\n\t(No symbol) [0x00007FF6CCF3BC33]\n\t(No symbol) [0x00007FF6CCF0D618]\n\t(No symbol) [0x00007FF6CCF0E6B1]\n\tGetHandleVerifier [0x00007FF6CD4267DD+3708781]\n\tGetHandleVerifier [0x00007FF6CD47FC5D+4074477]\n\tGetHandleVerifier [0x00007FF6CD477DDF+4042095]\n\tGetHandleVerifier [0x00007FF6CD14A136+708806]\n\t(No symbol) [0x00007FF6CD02CB0F]\n\t(No symbol) [0x00007FF6CD027D14]\n\t(No symbol) [0x00007FF6CD027E6C]\n\t(No symbol) [0x00007FF6CD0179A4]\n\tBaseThreadInitThunk [0x00007FFDED8C257D+29]\n\tRtlUserThreadStart [0x00007FFDEEFCAA58+40]\n"
     ]
    }
   ],
   "source": [
    "res_data = []\n",
    "\n",
    "for i in range(1, 21):\n",
    "    company_name = driver.find_element(By.XPATH, f'//*[@id=\"list-positions-wrapper\"]/ul/li[{i}]/div[2]/h6/a').text\n",
    "    \n",
    "    \n",
    "    driver.find_element(By.XPATH, f'//*[@id=\"list-positions-wrapper\"]/ul/li[{i}]/div[2]/div[1]').click()\n",
    "    \n",
    "    # 새로운 창 핸들 얻기\n",
    "    new_window_handle = driver.window_handles[-1]\n",
    "    \n",
    "    # 새로운 창으로 전환\n",
    "    driver.switch_to.window(new_window_handle)\n",
    "    \n",
    "    position = driver.find_element(By.XPATH,'//*[@id=\"career-app-legacy\"]/div/div[1]/div[1]/section/div/div[1]/div[1]/div[2]').text\n",
    "    type = driver.find_element(By.XPATH,'//*[@id=\"career-app-legacy\"]/div/div[1]/div[1]/section/div/div[1]/div[3]/div[2]').text\n",
    "    experience = driver.find_element(By.XPATH,'//*[@id=\"career-app-legacy\"]/div/div[1]/div[1]/section/div/div[1]/div[4]/div[2]').text\n",
    "    location = driver.find_element(By.XPATH,'//*[@id=\"career-app-legacy\"]/div/div[1]/div[1]/section/div/div[2]/div/div[2]').text\n",
    "    skill = driver.find_element(By.XPATH,'//*[@id=\"career-app-legacy\"]/div/div[1]/div[1]/div[2]/section/ul').text.replace('\\n', ', ')\n",
    "    content = driver.find_element(By.XPATH,'//*[@id=\"career-app-legacy\"]/div/div[1]').text.replace('\\n',' ')\n",
    "    \n",
    "    time.sleep(2)\n",
    "    \n",
    "    driver.close()  # 새로운 창 닫기\n",
    "    driver.switch_to.window(driver.window_handles[0])  # 이전 창으로 전환\n",
    "    \n",
    "    \n",
    "    res_data.append({'직무': position, '고용형태': type, '경력': experience, '주소': location, '기술스택': skill,\n",
    "                     '본문내용': content, '기업페이지url': links, '사원수': num_employee, '해당기업url': company_url})\n",
    "\n",
    "    \n",
    "    # 잠시 대기\n",
    "    time.sleep(1)\n",
    "\n",
    "res = pd.DataFrame(res_data)"
   ]
  },
  {
   "cell_type": "code",
   "execution_count": null,
   "id": "52829fd6-33e4-4709-b3a7-4b7e9ae4041c",
   "metadata": {},
   "outputs": [],
   "source": []
  },
  {
   "cell_type": "code",
   "execution_count": null,
   "id": "a72eca13-8dc8-4cf7-ba1d-7cb79bc8632c",
   "metadata": {},
   "outputs": [],
   "source": []
  },
  {
   "cell_type": "code",
   "execution_count": null,
   "id": "5ff043fd-d865-461a-893e-3c57da6a31ff",
   "metadata": {},
   "outputs": [],
   "source": []
  },
  {
   "cell_type": "code",
   "execution_count": null,
   "id": "f6b94b78-3efa-4be8-a633-46bdebf484c0",
   "metadata": {},
   "outputs": [],
   "source": []
  },
  {
   "cell_type": "code",
   "execution_count": null,
   "id": "6d92e1d8-5e1c-42c7-8c71-73011d155e44",
   "metadata": {},
   "outputs": [],
   "source": []
  },
  {
   "cell_type": "code",
   "execution_count": null,
   "id": "a8e342f5-b1c5-4c8d-b0b1-b5e50a5c5ba5",
   "metadata": {},
   "outputs": [],
   "source": []
  },
  {
   "cell_type": "code",
   "execution_count": null,
   "id": "3041bae0-dc71-43ab-b2ad-f904565a032b",
   "metadata": {},
   "outputs": [],
   "source": []
  },
  {
   "cell_type": "code",
   "execution_count": null,
   "id": "3c93c3b1-63b3-47b2-8dda-796af0329974",
   "metadata": {},
   "outputs": [],
   "source": []
  },
  {
   "cell_type": "code",
   "execution_count": null,
   "id": "0b4ec772-23e3-4ad7-9b3f-856544d6be6a",
   "metadata": {},
   "outputs": [],
   "source": []
  },
  {
   "cell_type": "code",
   "execution_count": null,
   "id": "d7db1849-a6b4-4ac6-9cf0-8bd05f8c3b7b",
   "metadata": {},
   "outputs": [],
   "source": []
  },
  {
   "cell_type": "code",
   "execution_count": null,
   "id": "0f4b8358-0c3a-4dba-aa78-eee30ad6c9cb",
   "metadata": {},
   "outputs": [],
   "source": []
  },
  {
   "cell_type": "code",
   "execution_count": null,
   "id": "5dff113b-9f71-4f0f-b5dc-2f3303f227b9",
   "metadata": {},
   "outputs": [],
   "source": []
  },
  {
   "cell_type": "code",
   "execution_count": null,
   "id": "5e493cb4-19ca-427a-8663-9e7168dbab51",
   "metadata": {},
   "outputs": [],
   "source": []
  },
  {
   "cell_type": "code",
   "execution_count": null,
   "id": "8506e593-9daf-4b49-9b97-0ba68c65e403",
   "metadata": {},
   "outputs": [],
   "source": []
  },
  {
   "cell_type": "code",
   "execution_count": null,
   "id": "704c12c2-4e1c-4cfc-a51f-bbb0076ac493",
   "metadata": {},
   "outputs": [],
   "source": []
  },
  {
   "cell_type": "code",
   "execution_count": null,
   "id": "caa59fac-bc4b-4379-a746-c878c8992720",
   "metadata": {},
   "outputs": [],
   "source": []
  },
  {
   "cell_type": "code",
   "execution_count": null,
   "id": "0923637a-bb59-4f5a-86b1-b813c12bf935",
   "metadata": {},
   "outputs": [],
   "source": []
  },
  {
   "cell_type": "code",
   "execution_count": null,
   "id": "afcf4194-653a-4cf2-b667-aea2cf39214a",
   "metadata": {},
   "outputs": [],
   "source": []
  },
  {
   "cell_type": "code",
   "execution_count": null,
   "id": "3544f590-c8ea-496c-9744-98ab180378fc",
   "metadata": {},
   "outputs": [],
   "source": []
  },
  {
   "cell_type": "code",
   "execution_count": 243,
   "id": "62dbb9af-834b-442d-a628-278edd913d0c",
   "metadata": {
    "tags": []
   },
   "outputs": [],
   "source": [
    "driver.quit()"
   ]
  },
  {
   "cell_type": "code",
   "execution_count": 224,
   "id": "ab0251c7-5bfd-4a99-8ae7-2236e737fde3",
   "metadata": {
    "tags": []
   },
   "outputs": [],
   "source": [
    "url = 'https://www.nicebizinfo.com/ep/EP0100M002GE.nice?kiscode=HD7152'\n",
    "\n",
    "driver = webdriver.Chrome()"
   ]
  },
  {
   "cell_type": "code",
   "execution_count": 225,
   "id": "8bee9a8a-d666-49de-ab09-34cf4104b044",
   "metadata": {
    "tags": []
   },
   "outputs": [],
   "source": [
    "driver.get(url)\n",
    "driver.get(url)"
   ]
  },
  {
   "cell_type": "markdown",
   "id": "e2fee862-6045-44f5-8971-fc57b3c35503",
   "metadata": {},
   "source": [
    "# nice에서 기업정보 가져오기"
   ]
  },
  {
   "cell_type": "code",
   "execution_count": null,
   "id": "ba5eb1c9-b9d9-4d06-8dae-a7e7789faf31",
   "metadata": {},
   "outputs": [],
   "source": [
    "search_box = driver.find_element(By.XPATH, '//*[@id=\"CM0100M001GE_korBtn\"]').click()"
   ]
  },
  {
   "cell_type": "code",
   "execution_count": 227,
   "id": "b1a3ef2e-c76f-4684-96c1-7494c58e685a",
   "metadata": {
    "tags": []
   },
   "outputs": [],
   "source": [
    "company_info_list = []\n",
    "\n",
    "for company_name in df['company_name']:\n",
    "    # 회사 이름 입력\n",
    "    search_box = driver.find_element(By.XPATH, '//*[@id=\"CM0100M001GE_itgSrch\"]')\n",
    "    search_box.clear()\n",
    "    search_box.send_keys(company_name)\n",
    "    \n",
    "    # 검색 버튼 클릭\n",
    "    driver.find_element(By.XPATH, '//*[@id=\"CM0100M001GE_korBtn\"]').click()\n",
    "    \n",
    "    # 페이지가 로드될 때까지 잠시 대기\n",
    "    driver.implicitly_wait(3)\n",
    "    \n",
    "    # BeautifulSoup을 사용하여 페이지의 HTML 파싱\n",
    "    soup = BeautifulSoup(driver.page_source, 'html.parser')\n",
    "    "
   ]
  },
  {
   "cell_type": "code",
   "execution_count": 191,
   "id": "aa94e85a-1072-411b-8d65-27cdf6e787c8",
   "metadata": {
    "tags": []
   },
   "outputs": [
    {
     "name": "stdout",
     "output_type": "stream",
     "text": [
      "    Company        설립일자     기업형태       매출액\n",
      "0     AB180  2015.05.21  중소기업,일반  ~ 5억원 이하\n",
      "1      포스타입  2015.05.21  중소기업,일반  ~ 5억원 이하\n",
      "2     레몬베이스  2015.05.21  중소기업,일반  ~ 5억원 이하\n",
      "3      오토위니  2015.05.21  중소기업,일반  ~ 5억원 이하\n",
      "4      페이타랩  2015.05.21  중소기업,일반  ~ 5억원 이하\n",
      "5     로보코리아  2015.05.21  중소기업,일반  ~ 5억원 이하\n",
      "6      한화비전  2015.05.21  중소기업,일반  ~ 5억원 이하\n",
      "7     디플래닉스  2015.05.21  중소기업,일반  ~ 5억원 이하\n",
      "8        발란  2015.05.21  중소기업,일반  ~ 5억원 이하\n",
      "9     헬스피디아  2015.05.21  중소기업,일반  ~ 5억원 이하\n",
      "10    로보코리아  2015.05.21  중소기업,일반  ~ 5억원 이하\n",
      "11     플라잉캣  2015.05.21  중소기업,일반  ~ 5억원 이하\n",
      "12    AB180  2015.05.21  중소기업,일반  ~ 5억원 이하\n",
      "13  월급쟁이부자들  2015.05.21  중소기업,일반  ~ 5억원 이하\n",
      "14    에잇퍼센트  2015.05.21  중소기업,일반  ~ 5억원 이하\n",
      "15       앤트  2015.05.21  중소기업,일반  ~ 5억원 이하\n",
      "16   포스페이스랩  2015.05.21  중소기업,일반  ~ 5억원 이하\n",
      "17   유케이미디어  2015.05.21  중소기업,일반  ~ 5억원 이하\n",
      "18      링키스  2015.05.21  중소기업,일반  ~ 5억원 이하\n",
      "19   차봇모빌리티  2015.05.21  중소기업,일반  ~ 5억원 이하\n"
     ]
    }
   ],
   "source": [
    "# 각 회사 이름에 대한 기업 정보 가져오기\n",
    "company_info_list = []\n",
    "\n",
    "for company_name in df['company_name']:\n",
    "    # 회사 이름 입력\n",
    "    search_box = driver.find_element(By.XPATH, '//*[@id=\"CM0100M001GE_itgSrch\"]')\n",
    "    search_box.clear()\n",
    "    search_box.send_keys(company_name)\n",
    "    search_box.submit()\n",
    "    \n",
    "    sleep.time(2)\n",
    "    \n",
    "    # 페이지가 로드될 때까지 잠시 대기\n",
    "    driver.implicitly_wait(3)\n",
    "    \n",
    "    # BeautifulSoup을 사용하여 페이지의 HTML 파싱\n",
    "    soup = BeautifulSoup(driver.page_source, 'html.parser')\n",
    "    \n",
    "    \n",
    "    company_info = {}\n",
    "    company_info_list.append(company_info)\n",
    "    company_info['Company'] = company_name\n",
    "    company_info['설립일자'] = soup.select_one('div.iconBox.bg3 p:contains(\"설립일자\") + strong').text.strip()\n",
    "    company_info['기업형태'] = soup.select_one('div.iconBox.bg4 strong').text.strip().replace('\\n', '').replace(' ', '')\n",
    "    company_info['매출액'] = driver.find_element(By.XPATH,'/html/body/div[5]/div/div[5]/table/tbody/tr[4]/td[3]').text\n",
    "    \n",
    "    sleep.time(2)\n",
    "    \n",
    "# 데이터프레임으로 변환하여 출력\n",
    "company_info_df = pd.DataFrame(company_info_list)\n",
    "print(company_info_df)"
   ]
  }
 ],
 "metadata": {
  "kernelspec": {
   "display_name": "Python 3 (ipykernel)",
   "language": "python",
   "name": "python3"
  },
  "language_info": {
   "codemirror_mode": {
    "name": "ipython",
    "version": 3
   },
   "file_extension": ".py",
   "mimetype": "text/x-python",
   "name": "python",
   "nbconvert_exporter": "python",
   "pygments_lexer": "ipython3",
   "version": "3.11.5"
  }
 },
 "nbformat": 4,
 "nbformat_minor": 5
}
